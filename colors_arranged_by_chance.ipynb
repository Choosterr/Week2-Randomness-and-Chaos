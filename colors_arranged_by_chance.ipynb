{
 "cells": [
  {
   "cell_type": "markdown",
   "metadata": {},
   "source": [
    "<a href=\"https://colab.research.google.com/github/IAT-ComputationalCreativity-Spring2025/Week2-Randomness-and-Chaos/blob/main/colors_arranged_by_chance.ipynb\" target=\"_parent\"><img src=\"https://colab.research.google.com/assets/colab-badge.svg\" alt=\"Open In Colab\"/></a>"
   ]
  },
  {
   "cell_type": "code",
   "execution_count": null,
   "metadata": {},
   "outputs": [],
   "source": [
    "! pip install opensimplex"
   ]
  },
  {
   "cell_type": "markdown",
   "metadata": {},
   "source": [
    "# Probability Distributions and Noise in Generative Art\n",
    "Creating controlled randomness"
   ]
  },
  {
   "cell_type": "markdown",
   "metadata": {},
   "source": [
    "## Why Different Distributions?"
   ]
  },
  {
   "cell_type": "markdown",
   "metadata": {},
   "source": [
    "\n",
    "- Uniform random isn't always \"natural\"\n",
    "\n",
    "- Real-world phenomena follow patterns\n",
    "\n",
    "- Different distributions create different effects\n",
    "\n",
    "- Key to controlling aesthetic outcomes\n",
    "\n",
    "Let's explore various distributions with randomly assigned colors"
   ]
  },
  {
   "cell_type": "markdown",
   "metadata": {},
   "source": [
    "### Imports and Functions"
   ]
  },
  {
   "cell_type": "code",
   "execution_count": 2,
   "metadata": {},
   "outputs": [],
   "source": [
    "import numpy as np \n",
    "import matplotlib.pyplot as plt \n",
    "\n",
    "from PIL import Image"
   ]
  },
  {
   "cell_type": "markdown",
   "metadata": {},
   "source": [
    "This is a simple function to display a histogram based on a numpy array to show the distribution of sampled values"
   ]
  },
  {
   "cell_type": "code",
   "execution_count": 3,
   "metadata": {},
   "outputs": [],
   "source": [
    "def plot_distribution(samples):\n",
    "    count, bins, ignored = plt.hist(samples, 15, density=False)\n",
    "    plt.hist(bins[:-1], bins)\n",
    "    plt.show()"
   ]
  },
  {
   "cell_type": "markdown",
   "metadata": {},
   "source": [
    "This function takes an array of pixels and then expands them to a given size, effectively creating a grid of colored squares"
   ]
  },
  {
   "cell_type": "code",
   "execution_count": 4,
   "metadata": {},
   "outputs": [],
   "source": [
    "def assign_colors_by_chance(samples, grid_size, image_size):\n",
    "    img = Image.fromarray(np.uint8(samples.reshape(grid_size)))\n",
    "    img = img.resize(image_size, Image.NEAREST)\n",
    "\n",
    "    return img"
   ]
  },
  {
   "cell_type": "code",
   "execution_count": 5,
   "metadata": {},
   "outputs": [],
   "source": [
    "# 50 squares by 50 squares with 3 channels for rgb\n",
    "grid_size = (50, 50, 3)\n",
    "n_samples = grid_size[0] * grid_size[1] * grid_size[2]\n",
    "\n",
    "image_size = (512, 512)"
   ]
  },
  {
   "cell_type": "markdown",
   "metadata": {},
   "source": [
    "## Uniform Distribution"
   ]
  },
  {
   "cell_type": "markdown",
   "metadata": {},
   "source": [
    "### Properties\n",
    "\n",
    "- Equal probabilities for all outcomes\n",
    "\n",
    "- Range defined my min and max values\n",
    "\n",
    "- \"Pure\" randomness"
   ]
  },
  {
   "cell_type": "markdown",
   "metadata": {},
   "source": [
    "### Artistic Applications\n",
    "\n",
    "- Random color selection\n",
    "\n",
    "- Particle starting positions\n",
    "\n",
    "- White noise"
   ]
  },
  {
   "cell_type": "code",
   "execution_count": null,
   "metadata": {},
   "outputs": [],
   "source": [
    "samples = np.random.uniform(0, 1, n_samples)\n",
    "\n",
    "plot_distribution(samples)"
   ]
  },
  {
   "cell_type": "markdown",
   "metadata": {},
   "source": [
    "Because the parameters for the uniform distribution are the min and max values, we can simply generate the values between 0 and 255 for RGB"
   ]
  },
  {
   "cell_type": "code",
   "execution_count": null,
   "metadata": {},
   "outputs": [],
   "source": [
    "samples = np.random.uniform(0, 255, n_samples)\n",
    "\n",
    "img = assign_colors_by_chance(samples, grid_size, image_size)\n",
    "\n",
    "display(img)"
   ]
  },
  {
   "cell_type": "markdown",
   "metadata": {},
   "source": [
    "We get a wide variety of vivid colors because all brightnesses for red, green, and blue are all equally possible. Pretty, but not very controllable aside from limiting the ranges."
   ]
  },
  {
   "cell_type": "markdown",
   "metadata": {},
   "source": [
    "## Normal (Gaussian) Distribution"
   ]
  },
  {
   "cell_type": "markdown",
   "metadata": {},
   "source": [
    "### Properties\n",
    "\n",
    "- Bell curve shape\n",
    "\n",
    "- Defined by mean and standard deviation\n",
    "\n",
    "- Models natural phenomena"
   ]
  },
  {
   "cell_type": "markdown",
   "metadata": {},
   "source": [
    "### Artisitic Applications\n",
    "\n",
    "- Natural variations in sizes\n",
    "\n",
    "- Organic clustering\n",
    "\n",
    "- Brush stroke distribution (width, pressure, spacing, etc.)\n",
    "\n",
    "- Color variation"
   ]
  },
  {
   "cell_type": "code",
   "execution_count": null,
   "metadata": {},
   "outputs": [],
   "source": [
    "samples = np.random.normal(loc=0, scale=1, size=n_samples)\n",
    "\n",
    "plot_distribution(samples)"
   ]
  },
  {
   "cell_type": "markdown",
   "metadata": {},
   "source": [
    "Because the normal distribution is defined by mean and standard deviation, it can be a little tricky getting the parameters right to fit in range you want. Here I will set the mean (`loc`) to 128 and standard deviation (`scale`) to 32 and then limit the values between 0 and 255 using `np.clip()`."
   ]
  },
  {
   "cell_type": "code",
   "execution_count": null,
   "metadata": {},
   "outputs": [],
   "source": [
    "samples = np.clip(np.random.normal(loc=128, scale=32, size=n_samples), 0, 255)\n",
    "\n",
    "plot_distribution(samples)"
   ]
  },
  {
   "cell_type": "code",
   "execution_count": null,
   "metadata": {},
   "outputs": [],
   "source": [
    "samples = np.clip(np.random.normal(loc=128, scale=32, size=n_samples), 0, 255)\n",
    "\n",
    "img = assign_colors_by_chance(samples, grid_size, image_size)\n",
    "\n",
    "display(img)"
   ]
  },
  {
   "cell_type": "markdown",
   "metadata": {},
   "source": [
    "Notice the muted colors since the values tend toward the mean. Experiment with the `loc` and `scale` parameters to get a better understanding of what they correspond to. Can you make the image darker and more colorful at the same time?"
   ]
  },
  {
   "cell_type": "markdown",
   "metadata": {},
   "source": [
    "## Exponential Distribution"
   ]
  },
  {
   "cell_type": "markdown",
   "metadata": {},
   "source": [
    "### Properties\n",
    "\n",
    "- Rapid initial decay\n",
    "\n",
    "- Long tail\n",
    "\n",
    "- Models time between events\n",
    "\n",
    "- Always positive values"
   ]
  },
  {
   "cell_type": "markdown",
   "metadata": {},
   "source": [
    "### Artistic Applications\n",
    "\n",
    "- Particle lifetimes\n",
    "\n",
    "- Brush stroke lengths\n",
    "\n",
    "- Event timing\n",
    "\n",
    "- Size distributions"
   ]
  },
  {
   "cell_type": "code",
   "execution_count": null,
   "metadata": {},
   "outputs": [],
   "source": [
    "samples = np.random.exponential(scale=1.0, size=n_samples)\n",
    "\n",
    "plot_distribution(samples)"
   ]
  },
  {
   "cell_type": "markdown",
   "metadata": {},
   "source": [
    "Again, we want to scale as needed and clip to make sure no value is ever outside of our range [0-256)"
   ]
  },
  {
   "cell_type": "code",
   "execution_count": null,
   "metadata": {},
   "outputs": [],
   "source": [
    "samples = np.clip(np.random.exponential(scale=32.0, size=n_samples), 0, 255)\n",
    "\n",
    "plot_distribution(samples)"
   ]
  },
  {
   "cell_type": "code",
   "execution_count": null,
   "metadata": {},
   "outputs": [],
   "source": [
    "samples = np.clip(np.random.exponential(scale=32.0, size=n_samples), 0, 255)\n",
    "\n",
    "img = assign_colors_by_chance(samples, grid_size, image_size)\n",
    "\n",
    "display(img)"
   ]
  },
  {
   "cell_type": "markdown",
   "metadata": {},
   "source": [
    "## Gradient Noise (Perlin, Simplex)"
   ]
  },
  {
   "cell_type": "markdown",
   "metadata": {},
   "source": [
    "### Properties\n",
    "\n",
    "- Smooth randomness\n",
    "\n",
    "- Coherent across dimensions\n",
    "\n",
    "- Natural-looking variation\n",
    "\n",
    "- Controllable frequency"
   ]
  },
  {
   "cell_type": "markdown",
   "metadata": {},
   "source": [
    "### Artistic Applications\n",
    "\n",
    "- Terrain generation\n",
    "\n",
    "- Flowing movement\n",
    "\n",
    "- Cloud textures\n",
    "\n",
    "- Organic patterns"
   ]
  },
  {
   "cell_type": "markdown",
   "metadata": {},
   "source": [
    "It is important to understand some key differences between probability distributions and noise functions:\n",
    "\n",
    "#### Independence vs. Coherence\n",
    "\n",
    "**Probability Distribution:** Each value is independently generated. If you sample a normal distribution twice in a row, the values have no relationship to each other.\n",
    "\n",
    "**Noise Function:** Values are correlated based on their position/time. If you sample Perlin noise at two nearby points, the values will be similar.\n",
    "\n",
    "#### Reproducibility\n",
    "\n",
    "**Probability Distribution:** You can reproduce the same sequence of random numbers using a seed, but each number is still independent\n",
    "\n",
    "**Noise Function:** Given the same input coordinate, you'll always get the same output value. It's more like a mathematical function\n",
    "\n",
    "#### Dimensionality\n",
    "\n",
    "**Probability Distribution:** Each sample is a single random event\n",
    "\n",
    "**Noise Function:** Can be coherently sampled across multiple dimensions (1D, 2D, 3D, etc.) while maintaining smoothness"
   ]
  },
  {
   "cell_type": "code",
   "execution_count": 14,
   "metadata": {},
   "outputs": [],
   "source": [
    "from opensimplex import seed, noise2array\n",
    "\n",
    "def simplex_grid(grid_size, scale=1.0, seed_val=0):\n",
    "\n",
    "    # The noise2array function needs an array of x-coordinates and and array of y-coordinates\n",
    "    # We will use single array since we just want a square\n",
    "    coords = np.linspace(0, scale, grid_size[0])\n",
    "\n",
    "    # Set the seed\n",
    "    seed(seed_val)\n",
    "\n",
    "    # Generate a 2d array of simplex noise: values are between -1 and 1\n",
    "    return noise2array(coords, coords)\n",
    "\n"
   ]
  },
  {
   "cell_type": "markdown",
   "metadata": {},
   "source": [
    "Because each sample is no longer an independent event, we need to sample each channel (red, green blue) as a single noise function. Here, we randomize the seed for each."
   ]
  },
  {
   "cell_type": "code",
   "execution_count": null,
   "metadata": {},
   "outputs": [],
   "source": [
    "samples = np.zeros(grid_size)\n",
    "\n",
    "# Set red values\n",
    "samples[:,:,0] = simplex_grid(grid_size, scale=4, seed_val=np.random.randint(1000))\n",
    "# Set green values\n",
    "samples[:,:,1] = simplex_grid(grid_size, scale=4, seed_val=np.random.randint(1000))\n",
    "# Set blue values\n",
    "samples[:,:,2] = simplex_grid(grid_size, scale=4, seed_val=np.random.randint(1000))\n",
    "\n",
    "# Fit values between 0 and 256\n",
    "samples = (samples / 2 + 0.5) * 255\n",
    "\n",
    "img = Image.fromarray(np.uint8(samples.reshape(grid_size)))\n",
    "img = img.resize(image_size, Image.NEAREST)\n",
    "\n",
    "display(img)"
   ]
  },
  {
   "cell_type": "markdown",
   "metadata": {},
   "source": [
    "## Activity: Brownian Motion"
   ]
  },
  {
   "cell_type": "markdown",
   "metadata": {},
   "source": [
    "Gradient noise such as perlin and simplex noise are often used to model terrain and materials in games. One way to make it appear more realistic is to create brownian textures by layering various scales of gradient noise."
   ]
  },
  {
   "cell_type": "markdown",
   "metadata": {},
   "source": [
    "Take ~20 minutes to experiment with layering gradient noise. Try to recreate a brownian texture as found in this paper: [https://www.sciencedirect.com/science/article/pii/S1746809418302921]"
   ]
  },
  {
   "cell_type": "markdown",
   "metadata": {},
   "source": [
    "Here is a simplified black and white version of the previous simplex example to get you started:"
   ]
  },
  {
   "cell_type": "code",
   "execution_count": null,
   "metadata": {},
   "outputs": [],
   "source": [
    "image_size = (1000, 1000)\n",
    "\n",
    "samples = np.zeros(image_size)\n",
    "\n",
    "# One layer at scale 4\n",
    "samples += simplex_grid(image_size, scale=4, seed_val=np.random.randint(1000)) * 1.0\n",
    "\n",
    "# Fit values between 0 and 256\n",
    "samples = np.clip((samples / 2 + 0.5) * 255, 0, 255)\n",
    "\n",
    "img = Image.fromarray(np.uint8(samples))\n",
    "\n",
    "display(img)"
   ]
  }
 ],
 "metadata": {
  "kernelspec": {
   "display_name": "iat460",
   "language": "python",
   "name": "python3"
  },
  "language_info": {
   "codemirror_mode": {
    "name": "ipython",
    "version": 3
   },
   "file_extension": ".py",
   "mimetype": "text/x-python",
   "name": "python",
   "nbconvert_exporter": "python",
   "pygments_lexer": "ipython3",
   "version": "3.9.21"
  }
 },
 "nbformat": 4,
 "nbformat_minor": 2
}
